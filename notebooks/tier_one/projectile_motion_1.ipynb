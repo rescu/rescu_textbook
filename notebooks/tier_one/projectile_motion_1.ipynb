{
 "cells": [
  {
   "cell_type": "code",
   "execution_count": 1,
   "metadata": {
    "collapsed": false
   },
   "outputs": [],
   "source": [
    "import sys\n",
    "import os\n",
    "\n",
    "sys.path.append(os.path.join(os.environ['RESCU_DIR'],'backstage'))\n",
    "import backstage.viz"
   ]
  },
  {
   "cell_type": "markdown",
   "metadata": {},
   "source": [
    "# Tier 1: Projectile Motion\n",
    "## Introduction\n",
    "This lesson will introduce the following topics:\n",
    "\n",
    "* the basic rules of writing Python code,\n",
    "* manipulating and storing different types of information,\n",
    "* how to make decisions based on different inputs, and\n",
    "* doing many operations with few lines of code.\n",
    "\n",
    "Rather than slogging through each of these points with a bunch of boring, unconnected examples, we will try to illustrate the usefulness these concepts more _cohesively_. By stepping through an introductory physics problem, projectile motion in two dimensions, we will show how using these basic programming concepts can help us to organize, solve, and visualize the problem for a large number of inputs, a task far too tedious to do by hand.\n",
    "\n",
    "The __goals__ for this section of Tier 1 are:\n",
    "\n",
    "* to understand basic Python syntax, including simple data structures, conditional statements, and iteration,\n",
    "* to understand the Jupyter notebook environment, including Markdown and basic LaTeX,\n",
    "* to understand how mathematical functions are translated to Python statements\n",
    "* to see how basic scripting and visualization can improve physical insight.\n"
   ]
  },
  {
   "cell_type": "markdown",
   "metadata": {},
   "source": [
    "## Theory\n",
    "We'll start by _briefly_ discussing the mathematics behind projectile motion (without air resistance) in a two-dimensional cartesian coordinate system. From introductory physics, we know that the acceleration of gravity is $g=9.8$ m/s$^2$ in the negative y-direction which we define to be downward. Thus, we can write the acceleration in the x- and y-directions as,\n",
    "$$\n",
    "a_x = \\frac{dv_x}{dt} = 0, \\quad a_y = \\frac{dv_y}{dt} = -g\n",
    "$$\n",
    "These are our _equations of motion_. They tell us the forces (or equivalently accelerations) that act on a point-like object in a gravitational field.\n",
    "\n",
    "Let's make this more concrete. Say we have a baseball in this two-dimensional world subject to the accelerations in $x$ and $y$ as shown above. "
   ]
  },
  {
   "cell_type": "code",
   "execution_count": 75,
   "metadata": {
    "collapsed": false
   },
   "outputs": [
    {
     "data": {
      "text/html": [
       "<style>.d3container{\n",
       "    margin: auto;\n",
       "    width: 50%;\n",
       "}\n",
       "\n",
       ".axis text {\n",
       "    font-family: serif;\n",
       "    font-size: 50px;\n",
       "}</style>\n",
       "<script src=\"../../javascript/d3/d3.min.js\"></script>\n",
       "<div id=\"d3DummyId\" class=\"d3container\"></div>\n",
       "<script>//Define dimensions\n",
       "var w = 350,\n",
       "    h = 250,\n",
       "    margin = 36;\n",
       "\n",
       "//Create svg object\n",
       "var svg = d3.select('#d3DummyId').append('svg')\n",
       "            .attr('width', w + (2*margin))\n",
       "            .attr('height', h + (2*margin))\n",
       "            .append('g')\n",
       "            .attr('transform', 'translate(' + margin + ',' + margin + ')');\n",
       "\n",
       "//Create arc\n",
       "var arc = d3.svg.arc()\n",
       "  .outerRadius(80)\n",
       "  .innerRadius(78)\n",
       "  .startAngle(Math.PI/4)\n",
       "  .endAngle(Math.PI/2);\n",
       "\n",
       "//Arrowhead for line\n",
       "svg.append(\"svg:defs\")\n",
       "   .append(\"svg:marker\")\n",
       "   .attr(\"id\", \"arrowhead\")\t\n",
       "   .attr(\"refX\", 2)\n",
       "   .attr(\"refY\", 6.5)\n",
       "   .attr(\"markerWidth\", 20)\n",
       "   .attr(\"markerHeight\", 20)\n",
       "   .attr(\"orient\", \"auto\")\n",
       "   .append(\"svg:path\")\n",
       "   .attr(\"d\", \"M2,5 L2,8 L10,6.5 L2,5\");\n",
       "\n",
       "//Create line and append to the body\n",
       "var trajectory = svg.append(\"line\")\n",
       "                    .attr(\"x1\", margin)\n",
       "                    .attr(\"y1\", (h-margin))\n",
       "                    .attr(\"x2\", (6*margin))\n",
       "                    .attr(\"y2\", (h-6*margin))\n",
       "                    .attr(\"stroke-width\", 2)\n",
       "                    .attr(\"stroke\", \"black\")\n",
       "                    .style(\"stroke-dasharray\", (\"3, 3\"))\n",
       "                    .attr(\"marker-end\", \"url(#arrowhead)\");\n",
       "\n",
       "//Create axes and scales\n",
       "var yScale = d3.scale.linear()\n",
       "               .domain([0,1])\n",
       "               .range([h,0]);\n",
       "\n",
       "var xScale = d3.scale.linear()\n",
       "               .domain([0,1])\n",
       "               .range([w,0]);\n",
       "\n",
       "var yAxis = d3.svg.axis()\n",
       "              .scale(yScale)\n",
       "              .orient('left')\n",
       "              .ticks(0);\n",
       "\n",
       "var xAxis = d3.svg.axis()\n",
       "              .scale(xScale)\n",
       "              .orient('bottom')\n",
       "              .ticks(0);\n",
       "\n",
       "//Add x and y axes\n",
       "svg.append('g')\n",
       "  .attr('class', 'axis y')\n",
       "  .attr('transform','translate('+margin+',0)')\n",
       "  .call(yAxis);\n",
       "\n",
       "svg.append('g')\n",
       "   .attr('class', 'axis x')\n",
       "   .attr('transform','translate(0,'+(h-margin)+')')\n",
       "   .call(xAxis);\n",
       "\n",
       "svg.append('path')\n",
       "  .attr('class', 'arc')\n",
       "  .attr('transform', 'translate('+margin+',' + (h-margin) + ')')\n",
       "  .attr('d', arc);\n",
       "\n",
       "\n",
       "//Trajectory labels\n",
       "var label_data = [\n",
       "    {'cx':(w/2-margin-0.5*margin),'cy':(h-margin-0.5*margin),'label':'\\u03b1'},\n",
       "    {'cx':(w/2-1.1*margin),'cy':(h-margin-h/2),'label':'v0'},\n",
       "    {'cx':(margin/3),'cy':(h/2),'label':'Y'},\n",
       "    {'cx':(w/2),'cy':(h-margin/3),'label':'X'}\n",
       "];\n",
       "\n",
       "var trajectory_labels = svg.selectAll('text')\n",
       "                           .data(label_data)\n",
       "                           .enter()\n",
       "                           .append('text');\n",
       "var label_maker = trajectory_labels\n",
       "                  .attr('x',function(d){return d.cx;})\n",
       "                  .attr('y',function(d){return d.cy;})\n",
       "                  .attr('font-size','20px')\n",
       "                  .text(function(d){return d.label;});\n",
       "\n",
       "\n",
       "//Add axes titles\n",
       "//Y\n",
       "/*\n",
       "svg.append(\"text\")\n",
       "    .attr(\"text-anchor\", \"middle\")  // this makes it easy to centre the text as the transform is applied to the anchor\n",
       "    .attr(\"transform\", \"translate(\"+ (margin/2) +\",\"+(h/2)+\")rotate(-90)\")  //move down and out and rotate\n",
       "    .text(\"y\");\n",
       "//X\n",
       "svg.append(\"text\")\n",
       "    .attr(\"text-anchor\", \"middle\")  // this makes it easy to centre the text as the transform is applied to the anchor\n",
       "    .attr(\"transform\", \"translate(\"+ (w/2) +\",\"+(h-margin/3)+\")\")  // centre below axis\n",
       "    .text(\"x\");\n",
       "*/</script>"
      ],
      "text/plain": [
       "<IPython.core.display.HTML object>"
      ]
     },
     "execution_count": 75,
     "metadata": {},
     "output_type": "execute_result"
    }
   ],
   "source": [
    "backstage.viz.inject_d3js(os.path.abspath('../../javascript/tier_one/trajectory_cartoon.js'),local_d3_install='../../javascript/d3/d3.min.js',style='../../stylesheets/tier_one/trajectory_cartoon.css')"
   ]
  },
  {
   "cell_type": "markdown",
   "metadata": {
    "collapsed": true
   },
   "source": [
    "The baseball is launched with an initial velocity $v_0$ at an angle $\\alpha$ from the horizontal (i.e. the $x$-axis) at time $t=0$ and falls to the ground at some later time $t=T$. Noting that the initial $x$- and $y$-velocities can be expressed as $v_{0x}=\\cos{(\\alpha)}v_0$ and $v_{0y}=\\sin{(\\alpha)}v_0$, we can integrate our equations of motion once over $t$ to find expressions for the velocity. \n",
    "\n",
    "First for the $x$-component,\n",
    "$$\n",
    "\\int_0^t\\mathrm{d}t\\left[\\frac{dv_x}{dt} = 0\\right] \\rightarrow \\int_{v_{0x}}^{v_x(t)}\\mathrm{d}v_x = 0 \\rightarrow v_{x}(t)=v_{0x},\n",
    "$$\n",
    "and then for the $y$-component,\n",
    "$$\n",
    "\\int_0^t\\mathrm{d}t\\left[\\frac{dv_y}{dt} = -g\\right] \\rightarrow \\int_{v_{0y}}^{v_y(t)}\\mathrm{d}v_y = -\\int_0^t\\mathrm{d}t\\,g \\rightarrow v_y(t) = v_{0y} - gt.\n",
    "$$\n",
    "Integrating again gives us the expressions for the $x$ and $y$ _positions_ as a function of time,\n",
    "$$\n",
    "x(t) = x_0 + v_{0x}t \\\\\n",
    "y(t) = y_0 + v_{0y}t - \\frac{1}{2}gt^2\n",
    "$$\n",
    "These are probably familiar to you from any introductory physics course. Note that given a set of initial conditions $(x_0,y_0,\\alpha)$, we can describe the trajectory of the baseball at any time $t$."
   ]
  },
  {
   "cell_type": "markdown",
   "metadata": {},
   "source": [
    "## Python as a Calculator\n",
    "As you may have already guessed, we can use the Python much like any normal calculator (Note the use of the `print()` function. It does exactly that: prints to the screen! Read more about it [here](https://docs.python.org/2/reference/simple_stmts.html#print)):"
   ]
  },
  {
   "cell_type": "code",
   "execution_count": 12,
   "metadata": {
    "collapsed": false
   },
   "outputs": [
    {
     "name": "stdout",
     "output_type": "stream",
     "text": [
      "2\n",
      "1\n",
      "12\n",
      "0\n"
     ]
    }
   ],
   "source": [
    "print(1+1)\n",
    "print(9-8)\n",
    "print(4*3)\n",
    "print(10/50)"
   ]
  },
  {
   "cell_type": "markdown",
   "metadata": {},
   "source": [
    "<div class=\"alert alert-danger\">\n",
    "<h3>Warning!</h3>\n",
    "Why is that last cell 0? Shouldn't it be $1/5=0.2$? This is a very common \"gotcha\" in many programming languages and is often referred to as __roundoff error__. What's going here has to do with the types of the numbers 10 and 50, something we usually don't have to worry about in Python (unlike in compiled languages like C,C++,Fortran,etc.). Both 10 and 50 are interpreted as _integers_. Check this for yourself:\n",
    "</div>"
   ]
  },
  {
   "cell_type": "code",
   "execution_count": 13,
   "metadata": {
    "collapsed": false
   },
   "outputs": [
    {
     "name": "stdout",
     "output_type": "stream",
     "text": [
      "(<type 'int'>, <type 'int'>)\n"
     ]
    }
   ],
   "source": [
    "print(type(10),type(50))"
   ]
  },
  {
   "cell_type": "markdown",
   "metadata": {},
   "source": [
    "<div class=\"alert alert-danger\">\n",
    "The result of an `int` divided by an `int` is still an `int`. But the integer part of 0.2 is 0 so we are left with zero. Note that the answer will not be rounded, but rather the non-integer part will be _truncated_ (i.e. 9/10=0.9 will still be 0).\n",
    "<br>\n",
    "<br>\n",
    "This problem is solved by simply converting the numerator and/or denominator to _floating point numbers_ (i.e. numbers that have a decimal part).\n",
    "</div>"
   ]
  },
  {
   "cell_type": "code",
   "execution_count": 17,
   "metadata": {
    "collapsed": false
   },
   "outputs": [
    {
     "data": {
      "text/plain": [
       "0.2"
      ]
     },
     "execution_count": 17,
     "metadata": {},
     "output_type": "execute_result"
    }
   ],
   "source": [
    "10.0/50.0"
   ]
  },
  {
   "cell_type": "markdown",
   "metadata": {},
   "source": [
    "<div class=\"alert alert-danger\">\n",
    "Now that 10 and 50 have a decimal part, their answer can also have a decimal part. This is often a very important consideration in scientific computing, particularly in larger, more complicated codes where little roundoff errors can add together to create very large problems. Note, however, in <a href=\"https://www.python.org/dev/peps/pep-0238/\">newer versions of Python, integer division will automatically be converted to a float.</a>\n",
    "</div>"
   ]
  },
  {
   "cell_type": "markdown",
   "metadata": {},
   "source": [
    "We can also store information in _variables_ and perform operations on these variables."
   ]
  },
  {
   "cell_type": "code",
   "execution_count": 20,
   "metadata": {
    "collapsed": false
   },
   "outputs": [],
   "source": [
    "a = 5.2\n",
    "b = 7.3"
   ]
  },
  {
   "cell_type": "code",
   "execution_count": 23,
   "metadata": {
    "collapsed": false
   },
   "outputs": [
    {
     "name": "stdout",
     "output_type": "stream",
     "text": [
      "('a+b=', 12.5)\n",
      "('a-b=', -2.0999999999999996)\n",
      "('a*b=', 37.96)\n",
      "('a/b=', 0.7123287671232877)\n"
     ]
    }
   ],
   "source": [
    "print('a+b=',a+b)\n",
    "print('a-b=',a-b)\n",
    "print('a*b=',a*b)\n",
    "print('a/b=',a/b)"
   ]
  },
  {
   "cell_type": "markdown",
   "metadata": {},
   "source": [
    "Let's bring this all back to our baseball example. First, we'll define the gravitational constant $g=9.81$ m/s$^2$."
   ]
  },
  {
   "cell_type": "code",
   "execution_count": 34,
   "metadata": {
    "collapsed": true
   },
   "outputs": [],
   "source": [
    "g = 9.81"
   ]
  },
  {
   "cell_type": "markdown",
   "metadata": {},
   "source": [
    "We'll launch our baseball from the position $(x_0,y_0)=0,1.0$ m and with $x$- and $y$-velocities of $v_{0x}=v_{0y}=1$ m/s."
   ]
  },
  {
   "cell_type": "code",
   "execution_count": 35,
   "metadata": {
    "collapsed": true
   },
   "outputs": [],
   "source": [
    "x0,y0,v0x,v0y = 0.,1.,1.,1."
   ]
  },
  {
   "cell_type": "markdown",
   "metadata": {},
   "source": [
    "Using the expressions derived above, we can calculate the $x$ and $y$ positions of the baseball at $t=0.1$ s."
   ]
  },
  {
   "cell_type": "code",
   "execution_count": 39,
   "metadata": {
    "collapsed": true
   },
   "outputs": [],
   "source": [
    "t = 0.1"
   ]
  },
  {
   "cell_type": "code",
   "execution_count": 40,
   "metadata": {
    "collapsed": true
   },
   "outputs": [],
   "source": [
    "x = x0 + v0x*t\n",
    "y = y0 + v0y*t - 1./2.*g*(t**2)"
   ]
  },
  {
   "cell_type": "code",
   "execution_count": 41,
   "metadata": {
    "collapsed": false
   },
   "outputs": [
    {
     "name": "stdout",
     "output_type": "stream",
     "text": [
      "x = 0.1 m at t=0.1 s\n",
      "y = 1.05095 m at t=0.1 s\n"
     ]
    }
   ],
   "source": [
    "print('x = {} m at t={} s'.format(x,t))\n",
    "print('y = {} m at t={} s'.format(y,t))"
   ]
  },
  {
   "cell_type": "markdown",
   "metadata": {},
   "source": [
    "<div class=\"alert alert-warning\">\n",
    "<h3>Note!</h3>\n",
    "The way we've printed the answers to the screen may look a bit odd. Python has some nice and easy to use methods for nicely formatting strings by injecting content into string templates. Learn more about string formatting [here](https://docs.python.org/2/library/string.html#format-specification-mini-language).\n",
    "</div>"
   ]
  },
  {
   "cell_type": "code",
   "execution_count": null,
   "metadata": {
    "collapsed": true
   },
   "outputs": [],
   "source": []
  }
 ],
 "metadata": {
  "kernelspec": {
   "display_name": "Python 2",
   "language": "python",
   "name": "python2"
  },
  "language_info": {
   "codemirror_mode": {
    "name": "ipython",
    "version": 2
   },
   "file_extension": ".py",
   "mimetype": "text/x-python",
   "name": "python",
   "nbconvert_exporter": "python",
   "pygments_lexer": "ipython2",
   "version": "2.7.11"
  }
 },
 "nbformat": 4,
 "nbformat_minor": 0
}
