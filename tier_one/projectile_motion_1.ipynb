{
 "cells": [
  {
   "cell_type": "markdown",
   "metadata": {},
   "source": [
    "# Tier 1: Projectile Motion\n",
    "## Introduction\n",
    "This lesson will introduce the following topics:\n",
    "\n",
    "* the basic rules of writing Python code,\n",
    "* manipulating and storing different types of information,\n",
    "* how to make decisions based on different inputs, and\n",
    "* doing many operations with few lines of code.\n",
    "\n",
    "Rather than slogging through each of these points with a bunch of boring, unconnected examples, we will try to illustrate the usefulness these concepts more _cohesively_. By stepping through an introductory physics problem, projectile motion in two dimensions, we will show how using these basic programming concepts can help us to organize, solve, and visualize the problem for a large number of inputs, a task far too tedious to do by hand.\n",
    "\n",
    "The __goals__ for this section of Tier 1 are:\n",
    "\n",
    "* to understand basic Python syntax, including simple data structures, conditional statements, and iteration,\n",
    "* to understand the Jupyter notebook environment, including Markdown and basic LaTeX,\n",
    "* to understand how mathematical functions are translated to Python statements\n",
    "* to see how basic scripting and visualization can improve physical insight.\n"
   ]
  },
  {
   "cell_type": "markdown",
   "metadata": {},
   "source": [
    "## Theory\n",
    "We'll start by _briefly_ discussing the mathematics behind projectile motion (without air resistance) in a two-dimensional cartesian coordinate system. From introductory physics, we know that the acceleration of gravity is $g=9.8$ m/s$^2$ in the negative y-direction which we define to be downward. Thus, we can write the acceleration in the x- and y-directions as,\n",
    "$$\n",
    "a_x = \\frac{dv_x}{dt} = 0, \\quad a_y = \\frac{dv_y}{dt} = -g\n",
    "$$\n",
    "These are our _equations of motion_. They tell us the forces (or equivalently accelerations) that act on a point-like object in a gravitational field. \n",
    "\n",
    "Let's make this more concrete. Say we have a baseball in this two-dimensional world subject to the accelerations in $x$ and $y$ as shown above. "
   ]
  },
  {
   "cell_type": "code",
   "execution_count": null,
   "metadata": {
    "collapsed": true
   },
   "outputs": [],
   "source": []
  }
 ],
 "metadata": {
  "kernelspec": {
   "display_name": "Python 2",
   "language": "python",
   "name": "python2"
  },
  "language_info": {
   "codemirror_mode": {
    "name": "ipython",
    "version": 2
   },
   "file_extension": ".py",
   "mimetype": "text/x-python",
   "name": "python",
   "nbconvert_exporter": "python",
   "pygments_lexer": "ipython2",
   "version": "2.7.11"
  }
 },
 "nbformat": 4,
 "nbformat_minor": 0
}
