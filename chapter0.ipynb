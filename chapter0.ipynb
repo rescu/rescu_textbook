{
 "cells": [
  {
   "cell_type": "markdown",
   "metadata": {},
   "source": [
    "#Chapter 0-Introduction"
   ]
  },
  {
   "cell_type": "markdown",
   "metadata": {},
   "source": [
    "Often when we think of scientists conducting an experiment, we think of laboratories filled with beakers and whirring machines. However, especially in physics, these laboratories are often replaced by computers, whether they are simple desktop machines or some of the world's largest supercomputing clusters. \n",
    "\n",
    "Scientists' reliance on computing and software skills increases daily, but often a student in the physical sciences may only take one (or sometimes zero!) programming courses. As a result, these programming skills are often self-taught and can sometimes result in poorly-built and/or incorrect software. One way to remedy this would be to insist that scientists get an extra degree in computer science or software engineering. This however is unfeasible for a variety of reasonables.\n",
    "\n",
    "One alternative is to give students exposure to software development at an earlier point in their education. This gives up-and-coming scientists a chance to hone their coding skills for a longer period of time and will help to avoid many of <a href=\"http://www.nature.com/news/2010/101013/pdf/467775a.pdf\">the pitfalls that scientific codes have recently been subject to.</a>\n",
    "\n",
    "This textbook seeks to give an introduction to software development through a series of motivating physical examples using the Python language. Specifically, we will be using the IPython notebook which will allow us to mix code with equations and explanations. Our first chapter will provide a (very!) brief introduction to the Python language and all of the other additional tools we need to work through the following physical examples."
   ]
  },
  {
   "cell_type": "markdown",
   "metadata": {},
   "source": [
    "##Why Python?"
   ]
  },
  {
   "cell_type": "markdown",
   "metadata": {},
   "source": [
    "There are hundreds of different programming languages out there, but many are not suited for scientific computing. Often we also must mix and match several different languages depending on the task at hand. In the last 10 years or so, Python has emerged as a very versatile and easy to use language. Its applications range from managing supercomputers to critical financial calculations to detailed physics simulations. \n",
    "\n",
    "Because of its widespread use, being a skilled Python programmer is useful not only in an academic setting, but in a commercial one as well. Looking at the **Fig. 1**, we can see that being able to program in Python is a very versatile skill. Learning Python won't make you automatically rich of course; we only include this figure to show that the skills learned here are not limited to scientific computing."
   ]
  },
  {
   "cell_type": "markdown",
   "metadata": {},
   "source": [
    "<figure>\n",
    "    <img src=\"figures_0/salary_v_language.png\">\n",
    "    <figcaption>**Fig. 1**-Python is useful outside of science as well; knowing Python can earn you one of the highest salaries in software engineering. Source: <a href=\"http://qz.com/298635/these-programming-languages-will-earn-you-the-most-money/\">Quartz</a></figcaption>\n",
    "</figure>\n",
    "![Alt text]()"
   ]
  },
  {
   "cell_type": "markdown",
   "metadata": {},
   "source": [
    "Historically, physicists have preferred less-than-readable programming languages like C,C++, and Fortran. This is mostly due to the fact that, while verbose and difficult to use, these languages are extremely fast. This is extremely important in instances where we need to perform many hundreds of millions of operations in a reasonable amount of time. \n",
    "\n",
    "These languages use what is known as *static type-checking*. That is, when we declare a variable or a function, we must tell the computer exactly how much memory we need. This ensures that the computer uses no more memory than it needs, allowing our simulation to run much quicker, but forcing us to write many more lines of code. **Fig. 2** shows the speed of Python relative to Fortran and C, as well as a few other popular languages; Python falls in between much faster languages like Fortran and much slower languages like Matlab and R. "
   ]
  },
  {
   "cell_type": "markdown",
   "metadata": {},
   "source": [
    "<figure>\n",
    "    <img src=\"figures_0/python_benchmark.png\">\n",
    "    <figcaption>**Fig. 2**-Speed of Python versus a lot of other programming languages all compared to the C language. The different colors  correspond to several different benchmarks. Note that a value of 1 indicates the operation is exactly comparable to C. Source: <a href=\"https://github.com/ViralBShah/julia-presentations/blob/master/Fifth-Elephant-2013/Fifth-Elephant-2013.pdf\">Viral B. Shah, Julia development team</a></figcaption>\n",
    "</figure>"
   ]
  },
  {
   "cell_type": "markdown",
   "metadata": {},
   "source": [
    "Python uses what is known as *dynamic type-checking*. This means that we don't need to specify the type when declaring a variable. For example, we can say `a=2` where in this case `a` has type `int` for integer. Then, later in our program we can say `a='Hello World!'`, which is a string (or a collection of characters) without having to say \"I'm switching `a` from an `int` to a `string`.\" This type of operation would be forbidden in languages with static type-checking. In C, for example, we would need to say `int a=2;` and later on if we assigned a string to `a`, we would get an error because `a` doesn't have enough room to store a string."
   ]
  },
  {
   "cell_type": "markdown",
   "metadata": {},
   "source": [
    "Hopefully by now, you've seen why we've chosen to use Python for this tutorial and why it is widely used by both scientists and software engineers alike: Python is easy to use while providing reasonable compute times and is used in a wide variety of applications. \n",
    "\n",
    "Additionally, several open source packages have been developed for Python that provide a large number of additional functions useful to scientists, mathematicians, and engineers. Two of the most prominent examples are <a hre=\"http://www.numpy.org/\">Numpy</a> and <a hre=\"http://www.scipy.org/\">SciPy</a>. Additionally, the <a href=\"\">Matplotlib</a> package has been developed to create publication-quality figures in Python. We will use all three of these packages throughout this course, but will leave discussion of them to subsequent sections."
   ]
  },
  {
   "cell_type": "markdown",
   "metadata": {},
   "source": [
    "##Using Python"
   ]
  },
  {
   "cell_type": "markdown",
   "metadata": {},
   "source": [
    "In the following few sections, we'll provide a brief introduction to the Python language mostly by example. Nearly any possible question you could have regarding programming has probably been answered on the popular question-and-answer website <a href=\"http://stackoverflow.com/\">StackOverflow</a> or by just typing your question into Google. The <a href=\"https://www.python.org/doc/\">Python documentation</a> is also a good source of Python help, but sometimes the explanations can be a bit technical and unhelpful to beginners."
   ]
  },
  {
   "cell_type": "markdown",
   "metadata": {},
   "source": [
    "###Basic Operations"
   ]
  },
  {
   "cell_type": "markdown",
   "metadata": {},
   "source": [
    "In the context of scientific computing, it's often easiest to think about any programming language as a really fancy calculator. One function that we will use right away (and throughout the rest of the tutorial) is the `print` function; unsurprisingly, this just tells the computer to print whatever follows `print` to the screen. The cell below shows a bunch of simple (and probably already obvious) operations."
   ]
  },
  {
   "cell_type": "code",
   "execution_count": 8,
   "metadata": {
    "collapsed": false
   },
   "outputs": [
    {
     "name": "stdout",
     "output_type": "stream",
     "text": [
      "7\n",
      "1\n",
      "12\n",
      "64\n",
      "1\n"
     ]
    }
   ],
   "source": [
    "#addition\n",
    "print 4+3\n",
    "#subtraction\n",
    "print 4-3\n",
    "#multiplication\n",
    "print 4*3\n",
    "#exponentiation\n",
    "print 4**3\n",
    "#division\n",
    "print 4/3"
   ]
  },
  {
   "cell_type": "markdown",
   "metadata": {},
   "source": [
    "The lines beginning with `#` are called comments. These are ignored by Python and are often used to provide explanations of your code. Note that we can combine strings and numbers in our print statements to give more meaningful output. We denote strings, or collections of characters, using double quotes `\"\"` or single quotes `''`."
   ]
  },
  {
   "cell_type": "code",
   "execution_count": 12,
   "metadata": {
    "collapsed": false
   },
   "outputs": [
    {
     "name": "stdout",
     "output_type": "stream",
     "text": [
      "4+3 =  7\n",
      "4-3 =  1\n",
      "4*3 =  12\n",
      "4^3 =  64\n",
      "4/3 =  1\n"
     ]
    }
   ],
   "source": [
    "#addition\n",
    "print \"4+3 = \",4+3\n",
    "#subtraction\n",
    "print \"4-3 = \",4-3\n",
    "#multiplication\n",
    "print '4*3 = ',4*3\n",
    "#exponentiation\n",
    "print \"4^3 = \",4**3\n",
    "#division\n",
    "print \"4/3 = \",4/3"
   ]
  },
  {
   "cell_type": "markdown",
   "metadata": {},
   "source": [
    "This is a nice example, but if we look at the last line, $4/3=1$, we notice that is in fact incorrect. In fact, $4/3=1~\\frac{1}{3}=1.\\overline{33}$. So what's going on with division in Python? In turns out that this is a very common mistake that programmers make and can lead to some very serious and hard-to-find problems.\n",
    "\n",
    "Recall that we said Python is dynamically typed, meaning it automatically infers the data type when you declare a variable. Note that both 4 and 3 have type `int`. Thus, Python expects the result of an operation between these two numbers to also be of type `int`. However, $4/3$ has a decimal component and thus must be represented as type `float`, meaning that Python has requested space to store the decimal part of our answer as well. We can thus solve our problem by writing 4 and 3 with type `float`; in general, it is good practice to always represent your numbers with type `float` if you think there is a chance you will suffer from roundoff error  (or truncation error), the mistakes that result in representing numbers with incorrect type."
   ]
  },
  {
   "cell_type": "code",
   "execution_count": 13,
   "metadata": {
    "collapsed": false
   },
   "outputs": [
    {
     "name": "stdout",
     "output_type": "stream",
     "text": [
      "4/3 =  1.33333333333\n"
     ]
    }
   ],
   "source": [
    "#division with floats\n",
    "print \"4/3 = \",4.0/3.0"
   ]
  },
  {
   "cell_type": "markdown",
   "metadata": {},
   "source": [
    "###Variables"
   ]
  },
  {
   "cell_type": "markdown",
   "metadata": {},
   "source": [
    "Performing simple calculations is nice, but what if we want to keep track of a particular value after we've performed several different operations on it? We do this be defining a variable, a concept we already referred to while discussing dynamic versus static type-checking. Rather than providing anymore wordy explanations, we'll show a few easy examples of how variables are used."
   ]
  },
  {
   "cell_type": "code",
   "execution_count": 14,
   "metadata": {
    "collapsed": false
   },
   "outputs": [
    {
     "name": "stdout",
     "output_type": "stream",
     "text": [
      "The initial value of a is  4.0  and the initial value of b is  3.0\n"
     ]
    }
   ],
   "source": [
    "#Give a value of 3.0 to a and 4.0 to b\n",
    "a = 4.0\n",
    "b = 3.0\n",
    "#output the values of these variables to the screen\n",
    "print \"The initial value of a is \",a,\" and the initial value of b is \",b"
   ]
  },
  {
   "cell_type": "markdown",
   "metadata": {},
   "source": [
    "Now let's perform some operations on `a` and `b` and see what happens."
   ]
  },
  {
   "cell_type": "code",
   "execution_count": 15,
   "metadata": {
    "collapsed": false
   },
   "outputs": [
    {
     "name": "stdout",
     "output_type": "stream",
     "text": [
      "The new value of a is  3.0  and the new value of b is  8.0\n"
     ]
    }
   ],
   "source": [
    "#Update a and b\n",
    "a = a - 1.0\n",
    "b = b + 5.0\n",
    "print \"The new value of a is \",a,\" and the new value of b is \",b"
   ]
  },
  {
   "cell_type": "markdown",
   "metadata": {},
   "source": [
    "Variables can also contain strings and we can even perform operations on these strings, within reason of course."
   ]
  },
  {
   "cell_type": "code",
   "execution_count": 17,
   "metadata": {
    "collapsed": false
   },
   "outputs": [
    {
     "name": "stdout",
     "output_type": "stream",
     "text": [
      "The first word is  Hello \n",
      "The second word is  World!\n",
      "The whole sentence is  Hello World!\n"
     ]
    }
   ],
   "source": [
    "#define the two words\n",
    "word1 = \"Hello \"\n",
    "word2 = \"World!\"\n",
    "#print the two words to the screen\n",
    "print \"The first word is \",word1\n",
    "print \"The second word is \",word2\n",
    "#add or concatenate the two strings\n",
    "expression = word1+word2\n",
    "#print the new string to the screen\n",
    "print \"The whole sentence is \",expression"
   ]
  },
  {
   "cell_type": "markdown",
   "metadata": {},
   "source": [
    "We shouldn't get too carried away though. For example, it's nonsensical to multiply, divide, or subtract two words. If we try to do this, Python will give us an error."
   ]
  },
  {
   "cell_type": "code",
   "execution_count": 20,
   "metadata": {
    "collapsed": false
   },
   "outputs": [
    {
     "ename": "TypeError",
     "evalue": "unsupported operand type(s) for -: 'str' and 'str'",
     "output_type": "error",
     "traceback": [
      "\u001b[0;31m---------------------------------------------------------------------------\u001b[0m",
      "\u001b[0;31mTypeError\u001b[0m                                 Traceback (most recent call last)",
      "\u001b[0;32m<ipython-input-20-28c83044910f>\u001b[0m in \u001b[0;36m<module>\u001b[0;34m()\u001b[0m\n\u001b[0;32m----> 1\u001b[0;31m \u001b[0mword1\u001b[0m\u001b[0;34m-\u001b[0m\u001b[0mword2\u001b[0m\u001b[0;34m\u001b[0m\u001b[0m\n\u001b[0m",
      "\u001b[0;31mTypeError\u001b[0m: unsupported operand type(s) for -: 'str' and 'str'"
     ]
    }
   ],
   "source": [
    "word1-word2"
   ]
  },
  {
   "cell_type": "code",
   "execution_count": 18,
   "metadata": {
    "collapsed": false
   },
   "outputs": [
    {
     "ename": "TypeError",
     "evalue": "can't multiply sequence by non-int of type 'str'",
     "output_type": "error",
     "traceback": [
      "\u001b[0;31m---------------------------------------------------------------------------\u001b[0m",
      "\u001b[0;31mTypeError\u001b[0m                                 Traceback (most recent call last)",
      "\u001b[0;32m<ipython-input-18-61d345771129>\u001b[0m in \u001b[0;36m<module>\u001b[0;34m()\u001b[0m\n\u001b[0;32m----> 1\u001b[0;31m \u001b[0mword1\u001b[0m\u001b[0;34m*\u001b[0m\u001b[0mword2\u001b[0m\u001b[0;34m\u001b[0m\u001b[0m\n\u001b[0m",
      "\u001b[0;31mTypeError\u001b[0m: can't multiply sequence by non-int of type 'str'"
     ]
    }
   ],
   "source": [
    "word1*word2"
   ]
  },
  {
   "cell_type": "code",
   "execution_count": 19,
   "metadata": {
    "collapsed": false
   },
   "outputs": [
    {
     "ename": "TypeError",
     "evalue": "unsupported operand type(s) for /: 'str' and 'str'",
     "output_type": "error",
     "traceback": [
      "\u001b[0;31m---------------------------------------------------------------------------\u001b[0m",
      "\u001b[0;31mTypeError\u001b[0m                                 Traceback (most recent call last)",
      "\u001b[0;32m<ipython-input-19-9f5fe86cf57e>\u001b[0m in \u001b[0;36m<module>\u001b[0;34m()\u001b[0m\n\u001b[0;32m----> 1\u001b[0;31m \u001b[0mword1\u001b[0m\u001b[0;34m/\u001b[0m\u001b[0mword2\u001b[0m\u001b[0;34m\u001b[0m\u001b[0m\n\u001b[0m",
      "\u001b[0;31mTypeError\u001b[0m: unsupported operand type(s) for /: 'str' and 'str'"
     ]
    }
   ],
   "source": [
    "word1/word2"
   ]
  },
  {
   "cell_type": "markdown",
   "metadata": {},
   "source": [
    "###Containers"
   ]
  },
  {
   "cell_type": "markdown",
   "metadata": {},
   "source": [
    "Python provides several different tools for organizing data. Creating collections of numbers or words is helpful when organizing our data and may often be necessary for handling large amounts of data.\n",
    "\n",
    "1. **Lists**: The most basic (and often most useful) container that Python provides is the list. A list gives us a way to store multiple values, whether they're words or numbers, with a single variable. For example, what if wanted to keep track of all the names of students in a class. We could create a series of variables, each one containing the name of a student."
   ]
  },
  {
   "cell_type": "code",
   "execution_count": 23,
   "metadata": {
    "collapsed": false
   },
   "outputs": [
    {
     "name": "stdout",
     "output_type": "stream",
     "text": [
      "The names of three of the students are  Jake ,  Jenny , and  Lucas\n"
     ]
    }
   ],
   "source": [
    "student1 = \"Jake\"\n",
    "student2 = \"Jenny\"\n",
    "student3 = \"Lucas\"\n",
    "print \"The names of three of the students are \",student1,', ',student2,', and ',student3"
   ]
  },
  {
   "cell_type": "markdown",
   "metadata": {},
   "source": [
    "However, what if we have 30 students? Defining a variable for each one seems a little unwieldy and offers no information about how these variables are connected (i.e. they are in the same class). It's easier and better practice to define the relationship between these students using a list."
   ]
  },
  {
   "cell_type": "code",
   "execution_count": 44,
   "metadata": {
    "collapsed": false
   },
   "outputs": [
    {
     "name": "stdout",
     "output_type": "stream",
     "text": [
      "The students in the class are  ['Marissa', 'Ben', 'Seth', 'Rachel', 'Ryan']\n"
     ]
    }
   ],
   "source": [
    "#Use a list to define a classroom rather than individual variables\n",
    "class1 = [\"Marissa\",\"Ben\",\"Seth\",\"Rachel\",\"Ryan\"]\n",
    "#Print the list\n",
    "print \"The students in the class are \",class1"
   ]
  },
  {
   "cell_type": "markdown",
   "metadata": {},
   "source": [
    "But what if we wanted to access the individual parts of the list? We will use what is called the index. One important thing to note about lists (and  counting in general) in Python is that numbers start at 0. Thus, for the above list, we can use 0-4 to access the parts of our list."
   ]
  },
  {
   "cell_type": "code",
   "execution_count": 45,
   "metadata": {
    "collapsed": false
   },
   "outputs": [
    {
     "name": "stdout",
     "output_type": "stream",
     "text": [
      "The first student in our class is  Marissa\n",
      "The second student in our class is  Ben\n",
      "The fifth student in our class is  Ryan\n"
     ]
    }
   ],
   "source": [
    "print \"The first student in our class is \",class1[0]\n",
    "print \"The second student in our class is \",class1[1]\n",
    "print \"The fifth student in our class is \",class1[4]"
   ]
  },
  {
   "cell_type": "markdown",
   "metadata": {},
   "source": [
    "But what if we try to access an element beyond the last element in our list?"
   ]
  },
  {
   "cell_type": "code",
   "execution_count": 46,
   "metadata": {
    "collapsed": false
   },
   "outputs": [
    {
     "ename": "IndexError",
     "evalue": "list index out of range",
     "output_type": "error",
     "traceback": [
      "\u001b[0;31m---------------------------------------------------------------------------\u001b[0m",
      "\u001b[0;31mIndexError\u001b[0m                                Traceback (most recent call last)",
      "\u001b[0;32m<ipython-input-46-eb24ab036a67>\u001b[0m in \u001b[0;36m<module>\u001b[0;34m()\u001b[0m\n\u001b[0;32m----> 1\u001b[0;31m \u001b[0;32mprint\u001b[0m \u001b[0mclass1\u001b[0m\u001b[0;34m[\u001b[0m\u001b[0;36m5\u001b[0m\u001b[0;34m]\u001b[0m\u001b[0;34m\u001b[0m\u001b[0m\n\u001b[0m",
      "\u001b[0;31mIndexError\u001b[0m: list index out of range"
     ]
    }
   ],
   "source": [
    "print class1[5]"
   ]
  },
  {
   "cell_type": "markdown",
   "metadata": {},
   "source": [
    "We can also use **negative** numbers to access the elements of our list, unintuitive as this may seem. In this case, -1 corresponds to the last element of our list, -2 the second-to-last element and so on. This is especially useful when we have very long lists or we have lists where the length is unknown and we want to access elements starting from the back."
   ]
  },
  {
   "cell_type": "code",
   "execution_count": 47,
   "metadata": {
    "collapsed": false
   },
   "outputs": [
    {
     "name": "stdout",
     "output_type": "stream",
     "text": [
      "The last student on our class list is  Ryan\n",
      "The second-to-last student on our class list is  Rachel\n"
     ]
    }
   ],
   "source": [
    "print \"The last student on our class list is \",class1[-1]\n",
    "print \"The second-to-last student on our class list is \",class1[-2]"
   ]
  },
  {
   "cell_type": "markdown",
   "metadata": {},
   "source": [
    "What if another student joins the class? We would like to be able to add elements to our list as well. This can be done through the `append` command, shown below."
   ]
  },
  {
   "cell_type": "code",
   "execution_count": 48,
   "metadata": {
    "collapsed": false
   },
   "outputs": [
    {
     "name": "stdout",
     "output_type": "stream",
     "text": [
      "The students in the class are  ['Marissa', 'Ben', 'Seth', 'Rachel', 'Ryan', 'Mischa']\n"
     ]
    }
   ],
   "source": [
    "#add a student to the class\n",
    "class1.append('Mischa')\n",
    "#print the class with the new student\n",
    "print \"The students in the class are \",class1"
   ]
  },
  {
   "cell_type": "markdown",
   "metadata": {},
   "source": [
    "Alternatively, we can remove elements of a list using the `pop` command in a similar way."
   ]
  },
  {
   "cell_type": "code",
   "execution_count": 49,
   "metadata": {
    "collapsed": false
   },
   "outputs": [
    {
     "name": "stdout",
     "output_type": "stream",
     "text": [
      "The new class roster is  ['Marissa', 'Seth', 'Rachel', 'Ryan', 'Mischa']\n"
     ]
    }
   ],
   "source": [
    "#remove Ben from the class list; note Ben corresponds to entry 1\n",
    "class1.pop(1)\n",
    "#print the class minus Ben\n",
    "print \"The new class roster is \",class1"
   ]
  },
  {
   "cell_type": "markdown",
   "metadata": {},
   "source": [
    "There are many more ways of manipulating lists and we won't cover all of them here. Consult the Python documentation for (many more) additional details."
   ]
  },
  {
   "cell_type": "markdown",
   "metadata": {},
   "source": [
    "2. **Dictionaries**: Another common container used in Python is the dictionary, denoted using `{}`. The main difference between dictionaries and lists is that dictionaries use a key-value pair rather than a numerical index to locate specific entries. But why would we want to use a dictionary instead of a list? Say we have a car and we want to specify several different properties of the car: its make, model, color, year. We could of course put this information in a list."
   ]
  },
  {
   "cell_type": "code",
   "execution_count": 50,
   "metadata": {
    "collapsed": false
   },
   "outputs": [
    {
     "name": "stdout",
     "output_type": "stream",
     "text": [
      "The details on my car are  ['Mercury', 'Sable', 'Dark Green', 1998]\n"
     ]
    }
   ],
   "source": [
    "#make a list for my_car\n",
    "my_car_list = ['Mercury','Sable','Dark Green',1998]\n",
    "#print the information\n",
    "print \"The details on my car are \",my_car_list"
   ]
  },
  {
   "cell_type": "markdown",
   "metadata": {},
   "source": [
    "However, this doesn't give us any information about what each of the individual entries mean. To preserve the context of the information in our list, we have to know the correspondence of the index (0-3) to the property it specifies. However, by using a dictionary, the key we use to access the value tells us what the value means. "
   ]
  },
  {
   "cell_type": "code",
   "execution_count": 51,
   "metadata": {
    "collapsed": false
   },
   "outputs": [
    {
     "name": "stdout",
     "output_type": "stream",
     "text": [
      "The make of my car is  Mercury\n",
      "The model of my car is  Sable\n",
      "The color of my car is  Dark Green\n",
      "My car was made in  1998\n"
     ]
    }
   ],
   "source": [
    "#make a dictionary for my car\n",
    "my_car_dict = {'make':'Mercury','model':'Sable','color':'Dark Green','year':1998}\n",
    "#print the details of my car\n",
    "print \"The make of my car is \",my_car_dict['make']\n",
    "print \"The model of my car is \",my_car_dict['model']\n",
    "print \"The color of my car is \",my_car_dict['color']\n",
    "print \"My car was made in \",my_car_dict['year']"
   ]
  },
  {
   "cell_type": "markdown",
   "metadata": {},
   "source": [
    "The kind of container we choose to use will depend on the problem at hand. Throughout our tutorial, we will show the advantages of using both types. Unsurprisingly, there are several more types of containers available in Python. We have only provided the two most used types here."
   ]
  },
  {
   "cell_type": "markdown",
   "metadata": {},
   "source": [
    "###Boolean Logic and Conditional Statements"
   ]
  },
  {
   "cell_type": "markdown",
   "metadata": {},
   "source": [
    "###Loops `while` and `for`"
   ]
  },
  {
   "cell_type": "markdown",
   "metadata": {},
   "source": [
    "###Functions"
   ]
  },
  {
   "cell_type": "markdown",
   "metadata": {},
   "source": [
    "##Numpy and SciPy"
   ]
  },
  {
   "cell_type": "markdown",
   "metadata": {},
   "source": [
    "##Plotting in Matplotlib"
   ]
  },
  {
   "cell_type": "markdown",
   "metadata": {},
   "source": [
    "##LaTeX and Markdown"
   ]
  },
  {
   "cell_type": "code",
   "execution_count": null,
   "metadata": {
    "collapsed": true
   },
   "outputs": [],
   "source": []
  }
 ],
 "metadata": {
  "kernelspec": {
   "display_name": "Python 2",
   "language": "python",
   "name": "python2"
  },
  "language_info": {
   "codemirror_mode": {
    "name": "ipython",
    "version": 2
   },
   "file_extension": ".py",
   "mimetype": "text/x-python",
   "name": "python",
   "nbconvert_exporter": "python",
   "pygments_lexer": "ipython2",
   "version": "2.7.9"
  }
 },
 "nbformat": 4,
 "nbformat_minor": 0
}
